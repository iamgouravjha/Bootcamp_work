{
 "cells": [
  {
   "cell_type": "markdown",
   "metadata": {
    "application/vnd.databricks.v1+cell": {
     "cellMetadata": {},
     "inputWidgets": {},
     "nuid": "e193bef5-ffc8-4379-ad5b-d0db914ddd65",
     "showTitle": false,
     "tableResultSettingsMap": {},
     "title": ""
    }
   },
   "source": [
    "### Error handling and logging"
   ]
  },
  {
   "cell_type": "code",
   "execution_count": 0,
   "metadata": {
    "application/vnd.databricks.v1+cell": {
     "cellMetadata": {
      "byteLimit": 2048000,
      "rowLimit": 10000
     },
     "inputWidgets": {},
     "nuid": "5f99bccd-c636-46cf-8766-7feca96986ff",
     "showTitle": false,
     "tableResultSettingsMap": {},
     "title": ""
    }
   },
   "outputs": [],
   "source": [
    "# try- except\n",
    "try:\n",
    "    marks = int(input(\"Enter your makrs\"))\n",
    "    if marks < 0:\n",
    "        print(\"marks cannot be negative\")\n",
    "    elif marks > 100:\n",
    "        print(\"marks cannot be greater than 100\")\n",
    "    else:\n",
    "        print(\"Normalized score:\",100/marks)\n",
    "except ZeroDivisionError:\n",
    "    print(\"cannot divide by zero\")\n",
    "except ValueError:\n",
    "    print(\"marks must be a number\")\n"
   ]
  }
 ],
 "metadata": {
  "application/vnd.databricks.v1+notebook": {
   "computePreferences": null,
   "dashboards": [],
   "environmentMetadata": {
    "base_environment": "",
    "environment_version": "2"
   },
   "inputWidgetPreferences": null,
   "language": "python",
   "notebookMetadata": {
    "pythonIndentUnit": 4
   },
   "notebookName": "Error handling and logging",
   "widgets": {}
  },
  "language_info": {
   "name": "python"
  }
 },
 "nbformat": 4,
 "nbformat_minor": 0
}
